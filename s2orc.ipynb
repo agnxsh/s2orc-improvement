{
  "cells": [
    {
      "cell_type": "markdown",
      "metadata": {
        "id": "view-in-github",
        "colab_type": "text"
      },
      "source": [
        "<a href=\"https://colab.research.google.com/github/agnxsh/s2orc-improvement/blob/main/s2orc.ipynb\" target=\"_parent\"><img src=\"https://colab.research.google.com/assets/colab-badge.svg\" alt=\"Open In Colab\"/></a>"
      ]
    },
    {
      "cell_type": "code",
      "execution_count": null,
      "metadata": {
        "id": "HczmVbhhQ_MJ"
      },
      "outputs": [],
      "source": [
        "d=[]\n",
        "while(1):\n",
        "  d.append('1')"
      ]
    },
    {
      "cell_type": "code",
      "execution_count": 1,
      "metadata": {
        "id": "_XRyz8vfEXla",
        "colab": {
          "base_uri": "https://localhost:8080/"
        },
        "outputId": "cc7d4328-9ba2-483c-9bd6-2d32519d299c"
      },
      "outputs": [
        {
          "output_type": "stream",
          "name": "stdout",
          "text": [
            "Mounted at /content/drive\n"
          ]
        }
      ],
      "source": [
        "import json\n",
        "from google.colab import drive\n",
        "drive.mount(\"/content/drive\")"
      ]
    },
    {
      "cell_type": "code",
      "execution_count": null,
      "metadata": {
        "id": "zPs_SeehJMQa"
      },
      "outputs": [],
      "source": [
        "# import pandas as pd\n",
        "# papers_abstracts_data = pd.read_json(path_or_buf=\"/content/drive/MyDrive/papers-with-abstracts.json\", lines=False)"
      ]
    },
    {
      "cell_type": "code",
      "execution_count": 2,
      "metadata": {
        "id": "_4CqgL11w8ZT"
      },
      "outputs": [],
      "source": [
        "import json\n",
        "f =open(\"/content/drive/MyDrive/papers-with-abstracts.json\")\n",
        "pad = json.load(f)\n",
        "f.close()"
      ]
    },
    {
      "cell_type": "code",
      "execution_count": null,
      "metadata": {
        "id": "RELyKDNSx7eL"
      },
      "outputs": [],
      "source": [
        "# !pip install jsonlines"
      ]
    },
    {
      "cell_type": "code",
      "execution_count": null,
      "metadata": {
        "id": "eLMIFOkvXjAl"
      },
      "outputs": [],
      "source": [
        "# import json\n",
        "# sdd =[]\n",
        "# with open('/content/drive/MyDrive/sample.jsonl', 'r') as json_file:\n",
        "#     json_list = list(json_file)\n",
        "\n",
        "# for json_str in json_list:\n",
        "#     sd = json.loads(json_str)\n",
        "#     sdd.append(sd)"
      ]
    },
    {
      "cell_type": "code",
      "execution_count": null,
      "metadata": {
        "colab": {
          "base_uri": "https://localhost:8080/",
          "height": 165
        },
        "id": "Hpy5hLpB0J5g",
        "outputId": "654c2fb7-803c-4472-b292-eae367b6b041"
      },
      "outputs": [
        {
          "output_type": "error",
          "ename": "NameError",
          "evalue": "ignored",
          "traceback": [
            "\u001b[0;31m---------------------------------------------------------------------------\u001b[0m",
            "\u001b[0;31mNameError\u001b[0m                                 Traceback (most recent call last)",
            "\u001b[0;32m<ipython-input-3-014482e198d0>\u001b[0m in \u001b[0;36m<module>\u001b[0;34m\u001b[0m\n\u001b[0;32m----> 1\u001b[0;31m \u001b[0msdd\u001b[0m\u001b[0;34m[\u001b[0m\u001b[0;36m0\u001b[0m\u001b[0;34m]\u001b[0m\u001b[0;34m\u001b[0m\u001b[0;34m\u001b[0m\u001b[0m\n\u001b[0m",
            "\u001b[0;31mNameError\u001b[0m: name 'sdd' is not defined"
          ]
        }
      ],
      "source": [
        "sdd[0]"
      ]
    },
    {
      "cell_type": "code",
      "execution_count": null,
      "metadata": {
        "colab": {
          "base_uri": "https://localhost:8080/"
        },
        "id": "FJSUXx99zO9R",
        "outputId": "90d708aa-d798-4bc8-bef3-8560f0277c6c"
      },
      "outputs": [
        {
          "output_type": "execute_result",
          "data": {
            "text/plain": [
              "list"
            ]
          },
          "metadata": {},
          "execution_count": 56
        }
      ],
      "source": [
        "type(sdd)"
      ]
    },
    {
      "cell_type": "code",
      "execution_count": null,
      "metadata": {
        "id": "R0HJxM-F0Dab"
      },
      "outputs": [],
      "source": [
        "sdd[0]['arxiv_id']"
      ]
    },
    {
      "cell_type": "code",
      "execution_count": null,
      "metadata": {
        "colab": {
          "base_uri": "https://localhost:8080/",
          "height": 36
        },
        "id": "MYocROcMznuj",
        "outputId": "bcab280a-669f-48d8-88b2-d675f5165261"
      },
      "outputs": [
        {
          "output_type": "execute_result",
          "data": {
            "text/plain": [
              "'1807.05895'"
            ],
            "application/vnd.google.colaboratory.intrinsic+json": {
              "type": "string"
            }
          },
          "metadata": {},
          "execution_count": 58
        }
      ],
      "source": [
        "sdd[788][\"arxiv_id\"]"
      ]
    },
    {
      "cell_type": "code",
      "execution_count": null,
      "metadata": {
        "colab": {
          "base_uri": "https://localhost:8080/"
        },
        "id": "mAic6TzhxRvG",
        "outputId": "6dfeccea-d9d5-4b88-e487-a8676497fe6e"
      },
      "outputs": [
        {
          "output_type": "execute_result",
          "data": {
            "text/plain": [
              "list"
            ]
          },
          "metadata": {},
          "execution_count": 5
        }
      ],
      "source": [
        "type(pad)"
      ]
    },
    {
      "cell_type": "code",
      "execution_count": null,
      "metadata": {
        "colab": {
          "base_uri": "https://localhost:8080/"
        },
        "id": "ImzK5_eYxmZq",
        "outputId": "6b4c80fd-f0b1-4d16-bfc9-ab4b4f0df565"
      },
      "outputs": [
        {
          "output_type": "execute_result",
          "data": {
            "text/plain": [
              "'Dynamic Network Model from Partial Observations'"
            ]
          },
          "metadata": {},
          "execution_count": 6
        }
      ],
      "source": [
        "pad[0][\"title\"]"
      ]
    },
    {
      "cell_type": "code",
      "execution_count": null,
      "metadata": {
        "colab": {
          "base_uri": "https://localhost:8080/"
        },
        "id": "_KEu2ZIkxVy-",
        "outputId": "0614534b-2567-4727-f4fb-1c84acd528d3"
      },
      "outputs": [
        {
          "output_type": "execute_result",
          "data": {
            "text/plain": [
              "[{'paper_url': 'https://paperswithcode.com/paper/dynamic-network-model-from-partial',\n",
              "  'arxiv_id': '1805.10616',\n",
              "  'title': 'Dynamic Network Model from Partial Observations',\n",
              "  'abstract': 'Can evolving networks be inferred and modeled without directly observing\\ntheir nodes and edges? In many applications, the edges of a dynamic network\\nmight not be observed, but one can observe the dynamics of stochastic cascading\\nprocesses (e.g., information diffusion, virus propagation) occurring over the\\nunobserved network. While there have been efforts to infer networks based on\\nsuch data, providing a generative probabilistic model that is able to identify\\nthe underlying time-varying network remains an open question. Here we consider\\nthe problem of inferring generative dynamic network models based on network\\ncascade diffusion data. We propose a novel framework for providing a\\nnon-parametric dynamic network model--based on a mixture of coupled\\nhierarchical Dirichlet processes-- based on data capturing cascade node\\ninfection times. Our approach allows us to infer the evolving community\\nstructure in networks and to obtain an explicit predictive distribution over\\nthe edges of the underlying network--including those that were not involved in\\ntransmission of any cascade, or are likely to appear in the future. We show the\\neffectiveness of our approach using extensive experiments on synthetic as well\\nas real-world networks.',\n",
              "  'url_abs': 'http://arxiv.org/abs/1805.10616v4',\n",
              "  'url_pdf': 'http://arxiv.org/pdf/1805.10616v4.pdf',\n",
              "  'proceeding': 'NeurIPS 2018 12',\n",
              "  'authors': ['Elahe Ghalebi',\n",
              "   'Baharan Mirzasoleiman',\n",
              "   'Radu Grosu',\n",
              "   'Jure Leskovec'],\n",
              "  'tasks': [],\n",
              "  'date': '2018-05-27',\n",
              "  'methods': []}]"
            ]
          },
          "metadata": {},
          "execution_count": 7
        }
      ],
      "source": [
        "pad[:1]"
      ]
    },
    {
      "cell_type": "code",
      "source": [
        "!pip install tqdm"
      ],
      "metadata": {
        "colab": {
          "base_uri": "https://localhost:8080/"
        },
        "id": "fcoTsOm2N0-l",
        "outputId": "5cbba9fd-3d5f-4e84-d485-6b58c255a4b2"
      },
      "execution_count": 3,
      "outputs": [
        {
          "output_type": "stream",
          "name": "stdout",
          "text": [
            "Looking in indexes: https://pypi.org/simple, https://us-python.pkg.dev/colab-wheels/public/simple/\n",
            "Requirement already satisfied: tqdm in /usr/local/lib/python3.8/dist-packages (4.64.1)\n"
          ]
        }
      ]
    },
    {
      "cell_type": "code",
      "execution_count": 11,
      "metadata": {
        "id": "5IvkC2c3L0C4"
      },
      "outputs": [],
      "source": [
        "from tqdm import tqdm"
      ]
    },
    {
      "cell_type": "code",
      "execution_count": null,
      "metadata": {
        "id": "gJ0_qLWgOzJt",
        "colab": {
          "base_uri": "https://localhost:8080/"
        },
        "outputId": "67ec20a8-d3a7-41bf-f13b-42a5f2a06148"
      },
      "outputs": [
        {
          "output_type": "execute_result",
          "data": {
            "text/plain": [
              "1366661"
            ]
          },
          "metadata": {},
          "execution_count": 9
        }
      ],
      "source": [
        "len(act_data)"
      ]
    },
    {
      "cell_type": "code",
      "execution_count": 4,
      "metadata": {
        "id": "fmtVRX3Gu8-n"
      },
      "outputs": [],
      "source": [
        "def titleBasedSearch(list1,list2):\n",
        "  final =[]\n",
        "  for i in tqdm(range(len(list1))):\n",
        "    for j in range(len(list2)):\n",
        "      try:\n",
        "        if(list1[i][\"title\"]==list2[j][\"title\"]):\n",
        "          final.append(list2[j])\n",
        "      except KeyError:\n",
        "        continue\n",
        "  return final"
      ]
    },
    {
      "cell_type": "code",
      "execution_count": 5,
      "metadata": {
        "id": "U1INP_JMaOFC"
      },
      "outputs": [],
      "source": [
        "def arxivbasedSearch(list1,list2):\n",
        "  finalp=[]\n",
        "  for i in tqdm(range(len(list2))):\n",
        "    for j in range(len(list1)):\n",
        "      try:    \n",
        "        if(list1[i][\"arxiv_id\"]==list2[i][\"arxiv_id\"]):\n",
        "          finalp.append(list2[j])\n",
        "      except KeyError:\n",
        "        continue\n",
        "  return finalp"
      ]
    },
    {
      "cell_type": "code",
      "source": [
        "def magBasedSearch(list1, list2):\n",
        "  final=[]\n",
        "  for i in tqdm(range(len(list1))):\n",
        "    for j in range(len(list2)):\n",
        "      try:\n",
        "        if(list1[i][\"mag_id\"]==list2[i]):\n",
        "          final.append(list2[i])\n",
        "      except KeyError:\n",
        "        continue\n",
        "  return final      "
      ],
      "metadata": {
        "id": "LSOgwPmtQNie"
      },
      "execution_count": 30,
      "outputs": []
    },
    {
      "cell_type": "code",
      "execution_count": 31,
      "metadata": {
        "id": "Zv3cSc0FEBlI"
      },
      "outputs": [],
      "source": [
        "def aclBasedSearch(list1, list2):\n",
        "  final=[]\n",
        "  for i in tqdm(range(len(list1))):\n",
        "    for j in range(len(list2)):\n",
        "      try:\n",
        "        if(list1[i][\"acl_id\"]==list2[i]):\n",
        "          final.append(list2[i])\n",
        "      except KeyError:\n",
        "        continue\n",
        "  return final      "
      ]
    },
    {
      "cell_type": "code",
      "execution_count": 32,
      "metadata": {
        "id": "wro59joVEs_H"
      },
      "outputs": [],
      "source": [
        "def pubmedBasedSearch(list1, list2):\n",
        "  final =[]\n",
        "  for i in tqdm(range(len(list1))):\n",
        "    for j in range(len(list2)):\n",
        "      try:\n",
        "        if(list1[i][\"pubmed_id\"]==list2[i]):\n",
        "          final.append(list2[i])\n",
        "      except KeyError:\n",
        "        continue\n",
        "  return final"
      ]
    },
    {
      "cell_type": "code",
      "execution_count": 33,
      "metadata": {
        "id": "i0WMvIPSFMjc"
      },
      "outputs": [],
      "source": [
        "def pmcBasedSearch(list1, list2):\n",
        "  final =[]\n",
        "  for i in tqdm(range(len(list1))):\n",
        "    for j in range(len(list2)):\n",
        "      try:    \n",
        "        if(list1[i][\"pmc_id\"]==list2[i]):\n",
        "          final.append(list2[i])\n",
        "      except KeyError:\n",
        "        continue\n",
        "  return final"
      ]
    },
    {
      "cell_type": "code",
      "source": [
        "def superSearchFunc(list1,list2):\n",
        "  final_set=[]\n",
        "  # final_set.append(titleBasedSearch(pad,act_data))\n",
        "  # final_set.append(arxivbasedSearch(pad,act_data))\n",
        "  # final_set.append(pubmedBasedSearch(pad,act_data))\n",
        "  final_set.append(aclBasedSearch(pad,act_data))\n",
        "  final_set.append(magBasedSearch(pad,act_data))\n",
        "  return final_set"
      ],
      "metadata": {
        "id": "ne0qdYjNP2o-"
      },
      "execution_count": 34,
      "outputs": []
    },
    {
      "cell_type": "code",
      "source": [
        "import pandas as pd\n",
        "df = pd.read_json(\"/content/drive/MyDrive/metadata_72.jsonl\", lines=True,chunksize=10000)"
      ],
      "metadata": {
        "id": "9jXBmMYaVWse"
      },
      "execution_count": 1,
      "outputs": []
    },
    {
      "cell_type": "code",
      "source": [
        "df=list(df)"
      ],
      "metadata": {
        "id": "m0iR757oVyWf"
      },
      "execution_count": 3,
      "outputs": []
    },
    {
      "cell_type": "code",
      "source": [
        "type(df)"
      ],
      "metadata": {
        "colab": {
          "base_uri": "https://localhost:8080/"
        },
        "id": "UDWailpxV6P_",
        "outputId": "3c567f0d-21b1-479f-9811-c677b83c19c3"
      },
      "execution_count": 4,
      "outputs": [
        {
          "output_type": "execute_result",
          "data": {
            "text/plain": [
              "list"
            ]
          },
          "metadata": {},
          "execution_count": 4
        }
      ]
    },
    {
      "cell_type": "code",
      "source": [
        "df[-1]"
      ],
      "metadata": {
        "colab": {
          "base_uri": "https://localhost:8080/",
          "height": 1000
        },
        "id": "WWNBq-JRa43X",
        "outputId": "08b433a7-36e8-4836-d345-b85360288c4d"
      },
      "execution_count": 29,
      "outputs": [
        {
          "output_type": "execute_result",
          "data": {
            "text/plain": [
              "          paper_id                                              title  \\\n",
              "1360000  161199682  Sir John Hawkins on Richard Savage and the pro...   \n",
              "1360001  161199813  Creating a History: The Case for Lawrence as a...   \n",
              "1360002   38770216  Shedding of sulfated lipids into gastric fluid...   \n",
              "1360003   38770242  Transformation: nursing education and cultural...   \n",
              "1360004   38770276  Laetiporic acids, a family of non-carotenoid p...   \n",
              "...            ...                                                ...   \n",
              "1365868  111509637  GOUGH, Gunboat Frontier: British Maritime Auth...   \n",
              "1365869  111509694  Building the machine in the woods : reconcilin...   \n",
              "1365870  111509713  Kresge Research Guides: Kresge Library Databas...   \n",
              "1365871  111509849  Road Log From Grand Junction to Resource Enter...   \n",
              "1365872  111509966              LibGuides. Mobile Literacy Lab. Home.   \n",
              "\n",
              "                                                   authors  \\\n",
              "1360000  [{'first': 'Timothy', 'middle': [], 'last': 'E...   \n",
              "1360001  [{'first': 'Carl', 'middle': [], 'last': 'Kroc...   \n",
              "1360002  [{'first': 'M', 'middle': [], 'last': 'Iwamori...   \n",
              "1360003  [{'first': 'C', 'middle': [], 'last': 'Saylor'...   \n",
              "1360004  [{'first': 'Paolo', 'middle': [], 'last': 'Dav...   \n",
              "...                                                    ...   \n",
              "1365868  [{'first': 'A.W.H.', 'middle': [], 'last': 'Pe...   \n",
              "1365869  [{'first': 'Robert', 'middle': ['M'], 'last': ...   \n",
              "1365870  [{'first': 'Sally', 'middle': [], 'last': 'Zip...   \n",
              "1365871  [{'first': 'R.', 'middle': ['G.'], 'last': 'Yo...   \n",
              "1365872  [{'first': 'Neena', 'middle': [], 'last': 'Gro...   \n",
              "\n",
              "                                                  abstract    year arxiv_id  \\\n",
              "1360000                                               None  2012.0     None   \n",
              "1360001  One of the legacies of our last, violent centu...  2010.0     None   \n",
              "1360002  Cholesterol sulfate (CS) and sulfatides in the...  2000.0     None   \n",
              "1360003  Teaching is the transformation of ideas and co...  1993.0     None   \n",
              "1360004  The non-isoprenoid polyene laetiporic acid A, ...  2005.0     None   \n",
              "...                                                    ...     ...      ...   \n",
              "1365868                                               None  1985.0     None   \n",
              "1365869                                               None  1991.0     None   \n",
              "1365870                                               None  2014.0     None   \n",
              "1365871                                               None  1984.0     None   \n",
              "1365872  BCPS shares many online resources for the succ...  2014.0     None   \n",
              "\n",
              "        acl_id pmc_id   pubmed_id                               doi  ...  \\\n",
              "1360000   None   None         NaN                              None  ...   \n",
              "1360001   None   None         NaN              10.4000/lawrence.157  ...   \n",
              "1360002   None   None  11018478.0     10.1016/S1388-1981(00)00102-5  ...   \n",
              "1360003   None   None   8487982.0  10.1097/00006223-199301000-00009  ...   \n",
              "1360004   None   None  15797608.0   10.1016/j.phytochem.2005.01.023  ...   \n",
              "...        ...    ...         ...                               ...  ...   \n",
              "1365868   None   None         NaN                              None  ...   \n",
              "1365869   None   None         NaN                              None  ...   \n",
              "1365870   None   None         NaN                              None  ...   \n",
              "1365871   None   None         NaN                              None  ...   \n",
              "1365872   None   None         NaN                              None  ...   \n",
              "\n",
              "                                         inbound_citations  \\\n",
              "1360000                                                 []   \n",
              "1360001                                                 []   \n",
              "1360002                      [8200837, 14200885, 14200276]   \n",
              "1360003                                         [46236525]   \n",
              "1360004  [84493238, 108124, 1380500, 210125090, 1848775...   \n",
              "...                                                    ...   \n",
              "1365868                                                 []   \n",
              "1365869                                                 []   \n",
              "1365870                                                 []   \n",
              "1365871                                                 []   \n",
              "1365872                                                 []   \n",
              "\n",
              "        has_outbound_citations has_inbound_citations has_pdf_parse  \\\n",
              "1360000                  False                 False         False   \n",
              "1360001                  False                 False         False   \n",
              "1360002                  False                  True         False   \n",
              "1360003                  False                  True         False   \n",
              "1360004                  False                  True         False   \n",
              "...                        ...                   ...           ...   \n",
              "1365868                  False                 False         False   \n",
              "1365869                  False                 False         False   \n",
              "1365870                  False                 False         False   \n",
              "1365871                  False                 False         False   \n",
              "1365872                  False                 False         False   \n",
              "\n",
              "                                                    s2_url has_pdf_body_text  \\\n",
              "1360000  https://api.semanticscholar.org/CorpusID:16119...               NaN   \n",
              "1360001  https://api.semanticscholar.org/CorpusID:16119...               NaN   \n",
              "1360002  https://api.semanticscholar.org/CorpusID:38770216               NaN   \n",
              "1360003  https://api.semanticscholar.org/CorpusID:38770242               NaN   \n",
              "1360004  https://api.semanticscholar.org/CorpusID:38770276               NaN   \n",
              "...                                                    ...               ...   \n",
              "1365868  https://api.semanticscholar.org/CorpusID:11150...               NaN   \n",
              "1365869  https://api.semanticscholar.org/CorpusID:11150...               NaN   \n",
              "1365870  https://api.semanticscholar.org/CorpusID:11150...               NaN   \n",
              "1365871  https://api.semanticscholar.org/CorpusID:11150...               NaN   \n",
              "1365872  https://api.semanticscholar.org/CorpusID:11150...               NaN   \n",
              "\n",
              "         has_pdf_parsed_abstract  has_pdf_parsed_body_text  \\\n",
              "1360000                      NaN                       NaN   \n",
              "1360001                      NaN                       NaN   \n",
              "1360002                      NaN                       NaN   \n",
              "1360003                      NaN                       NaN   \n",
              "1360004                      NaN                       NaN   \n",
              "...                          ...                       ...   \n",
              "1365868                      NaN                       NaN   \n",
              "1365869                      NaN                       NaN   \n",
              "1365870                      NaN                       NaN   \n",
              "1365871                      NaN                       NaN   \n",
              "1365872                      NaN                       NaN   \n",
              "\n",
              "         has_pdf_parsed_bib_entries has_pdf_parsed_ref_entries  \n",
              "1360000                         NaN                        NaN  \n",
              "1360001                         NaN                        NaN  \n",
              "1360002                         NaN                        NaN  \n",
              "1360003                         NaN                        NaN  \n",
              "1360004                         NaN                        NaN  \n",
              "...                             ...                        ...  \n",
              "1365868                         NaN                        NaN  \n",
              "1365869                         NaN                        NaN  \n",
              "1365870                         NaN                        NaN  \n",
              "1365871                         NaN                        NaN  \n",
              "1365872                         NaN                        NaN  \n",
              "\n",
              "[5873 rows x 25 columns]"
            ],
            "text/html": [
              "\n",
              "  <div id=\"df-08157aa0-e728-4a68-8f1a-734aac86da1c\">\n",
              "    <div class=\"colab-df-container\">\n",
              "      <div>\n",
              "<style scoped>\n",
              "    .dataframe tbody tr th:only-of-type {\n",
              "        vertical-align: middle;\n",
              "    }\n",
              "\n",
              "    .dataframe tbody tr th {\n",
              "        vertical-align: top;\n",
              "    }\n",
              "\n",
              "    .dataframe thead th {\n",
              "        text-align: right;\n",
              "    }\n",
              "</style>\n",
              "<table border=\"1\" class=\"dataframe\">\n",
              "  <thead>\n",
              "    <tr style=\"text-align: right;\">\n",
              "      <th></th>\n",
              "      <th>paper_id</th>\n",
              "      <th>title</th>\n",
              "      <th>authors</th>\n",
              "      <th>abstract</th>\n",
              "      <th>year</th>\n",
              "      <th>arxiv_id</th>\n",
              "      <th>acl_id</th>\n",
              "      <th>pmc_id</th>\n",
              "      <th>pubmed_id</th>\n",
              "      <th>doi</th>\n",
              "      <th>...</th>\n",
              "      <th>inbound_citations</th>\n",
              "      <th>has_outbound_citations</th>\n",
              "      <th>has_inbound_citations</th>\n",
              "      <th>has_pdf_parse</th>\n",
              "      <th>s2_url</th>\n",
              "      <th>has_pdf_body_text</th>\n",
              "      <th>has_pdf_parsed_abstract</th>\n",
              "      <th>has_pdf_parsed_body_text</th>\n",
              "      <th>has_pdf_parsed_bib_entries</th>\n",
              "      <th>has_pdf_parsed_ref_entries</th>\n",
              "    </tr>\n",
              "  </thead>\n",
              "  <tbody>\n",
              "    <tr>\n",
              "      <th>1360000</th>\n",
              "      <td>161199682</td>\n",
              "      <td>Sir John Hawkins on Richard Savage and the pro...</td>\n",
              "      <td>[{'first': 'Timothy', 'middle': [], 'last': 'E...</td>\n",
              "      <td>None</td>\n",
              "      <td>2012.0</td>\n",
              "      <td>None</td>\n",
              "      <td>None</td>\n",
              "      <td>None</td>\n",
              "      <td>NaN</td>\n",
              "      <td>None</td>\n",
              "      <td>...</td>\n",
              "      <td>[]</td>\n",
              "      <td>False</td>\n",
              "      <td>False</td>\n",
              "      <td>False</td>\n",
              "      <td>https://api.semanticscholar.org/CorpusID:16119...</td>\n",
              "      <td>NaN</td>\n",
              "      <td>NaN</td>\n",
              "      <td>NaN</td>\n",
              "      <td>NaN</td>\n",
              "      <td>NaN</td>\n",
              "    </tr>\n",
              "    <tr>\n",
              "      <th>1360001</th>\n",
              "      <td>161199813</td>\n",
              "      <td>Creating a History: The Case for Lawrence as a...</td>\n",
              "      <td>[{'first': 'Carl', 'middle': [], 'last': 'Kroc...</td>\n",
              "      <td>One of the legacies of our last, violent centu...</td>\n",
              "      <td>2010.0</td>\n",
              "      <td>None</td>\n",
              "      <td>None</td>\n",
              "      <td>None</td>\n",
              "      <td>NaN</td>\n",
              "      <td>10.4000/lawrence.157</td>\n",
              "      <td>...</td>\n",
              "      <td>[]</td>\n",
              "      <td>False</td>\n",
              "      <td>False</td>\n",
              "      <td>False</td>\n",
              "      <td>https://api.semanticscholar.org/CorpusID:16119...</td>\n",
              "      <td>NaN</td>\n",
              "      <td>NaN</td>\n",
              "      <td>NaN</td>\n",
              "      <td>NaN</td>\n",
              "      <td>NaN</td>\n",
              "    </tr>\n",
              "    <tr>\n",
              "      <th>1360002</th>\n",
              "      <td>38770216</td>\n",
              "      <td>Shedding of sulfated lipids into gastric fluid...</td>\n",
              "      <td>[{'first': 'M', 'middle': [], 'last': 'Iwamori...</td>\n",
              "      <td>Cholesterol sulfate (CS) and sulfatides in the...</td>\n",
              "      <td>2000.0</td>\n",
              "      <td>None</td>\n",
              "      <td>None</td>\n",
              "      <td>None</td>\n",
              "      <td>11018478.0</td>\n",
              "      <td>10.1016/S1388-1981(00)00102-5</td>\n",
              "      <td>...</td>\n",
              "      <td>[8200837, 14200885, 14200276]</td>\n",
              "      <td>False</td>\n",
              "      <td>True</td>\n",
              "      <td>False</td>\n",
              "      <td>https://api.semanticscholar.org/CorpusID:38770216</td>\n",
              "      <td>NaN</td>\n",
              "      <td>NaN</td>\n",
              "      <td>NaN</td>\n",
              "      <td>NaN</td>\n",
              "      <td>NaN</td>\n",
              "    </tr>\n",
              "    <tr>\n",
              "      <th>1360003</th>\n",
              "      <td>38770242</td>\n",
              "      <td>Transformation: nursing education and cultural...</td>\n",
              "      <td>[{'first': 'C', 'middle': [], 'last': 'Saylor'...</td>\n",
              "      <td>Teaching is the transformation of ideas and co...</td>\n",
              "      <td>1993.0</td>\n",
              "      <td>None</td>\n",
              "      <td>None</td>\n",
              "      <td>None</td>\n",
              "      <td>8487982.0</td>\n",
              "      <td>10.1097/00006223-199301000-00009</td>\n",
              "      <td>...</td>\n",
              "      <td>[46236525]</td>\n",
              "      <td>False</td>\n",
              "      <td>True</td>\n",
              "      <td>False</td>\n",
              "      <td>https://api.semanticscholar.org/CorpusID:38770242</td>\n",
              "      <td>NaN</td>\n",
              "      <td>NaN</td>\n",
              "      <td>NaN</td>\n",
              "      <td>NaN</td>\n",
              "      <td>NaN</td>\n",
              "    </tr>\n",
              "    <tr>\n",
              "      <th>1360004</th>\n",
              "      <td>38770276</td>\n",
              "      <td>Laetiporic acids, a family of non-carotenoid p...</td>\n",
              "      <td>[{'first': 'Paolo', 'middle': [], 'last': 'Dav...</td>\n",
              "      <td>The non-isoprenoid polyene laetiporic acid A, ...</td>\n",
              "      <td>2005.0</td>\n",
              "      <td>None</td>\n",
              "      <td>None</td>\n",
              "      <td>None</td>\n",
              "      <td>15797608.0</td>\n",
              "      <td>10.1016/j.phytochem.2005.01.023</td>\n",
              "      <td>...</td>\n",
              "      <td>[84493238, 108124, 1380500, 210125090, 1848775...</td>\n",
              "      <td>False</td>\n",
              "      <td>True</td>\n",
              "      <td>False</td>\n",
              "      <td>https://api.semanticscholar.org/CorpusID:38770276</td>\n",
              "      <td>NaN</td>\n",
              "      <td>NaN</td>\n",
              "      <td>NaN</td>\n",
              "      <td>NaN</td>\n",
              "      <td>NaN</td>\n",
              "    </tr>\n",
              "    <tr>\n",
              "      <th>...</th>\n",
              "      <td>...</td>\n",
              "      <td>...</td>\n",
              "      <td>...</td>\n",
              "      <td>...</td>\n",
              "      <td>...</td>\n",
              "      <td>...</td>\n",
              "      <td>...</td>\n",
              "      <td>...</td>\n",
              "      <td>...</td>\n",
              "      <td>...</td>\n",
              "      <td>...</td>\n",
              "      <td>...</td>\n",
              "      <td>...</td>\n",
              "      <td>...</td>\n",
              "      <td>...</td>\n",
              "      <td>...</td>\n",
              "      <td>...</td>\n",
              "      <td>...</td>\n",
              "      <td>...</td>\n",
              "      <td>...</td>\n",
              "      <td>...</td>\n",
              "    </tr>\n",
              "    <tr>\n",
              "      <th>1365868</th>\n",
              "      <td>111509637</td>\n",
              "      <td>GOUGH, Gunboat Frontier: British Maritime Auth...</td>\n",
              "      <td>[{'first': 'A.W.H.', 'middle': [], 'last': 'Pe...</td>\n",
              "      <td>None</td>\n",
              "      <td>1985.0</td>\n",
              "      <td>None</td>\n",
              "      <td>None</td>\n",
              "      <td>None</td>\n",
              "      <td>NaN</td>\n",
              "      <td>None</td>\n",
              "      <td>...</td>\n",
              "      <td>[]</td>\n",
              "      <td>False</td>\n",
              "      <td>False</td>\n",
              "      <td>False</td>\n",
              "      <td>https://api.semanticscholar.org/CorpusID:11150...</td>\n",
              "      <td>NaN</td>\n",
              "      <td>NaN</td>\n",
              "      <td>NaN</td>\n",
              "      <td>NaN</td>\n",
              "      <td>NaN</td>\n",
              "    </tr>\n",
              "    <tr>\n",
              "      <th>1365869</th>\n",
              "      <td>111509694</td>\n",
              "      <td>Building the machine in the woods : reconcilin...</td>\n",
              "      <td>[{'first': 'Robert', 'middle': ['M'], 'last': ...</td>\n",
              "      <td>None</td>\n",
              "      <td>1991.0</td>\n",
              "      <td>None</td>\n",
              "      <td>None</td>\n",
              "      <td>None</td>\n",
              "      <td>NaN</td>\n",
              "      <td>None</td>\n",
              "      <td>...</td>\n",
              "      <td>[]</td>\n",
              "      <td>False</td>\n",
              "      <td>False</td>\n",
              "      <td>False</td>\n",
              "      <td>https://api.semanticscholar.org/CorpusID:11150...</td>\n",
              "      <td>NaN</td>\n",
              "      <td>NaN</td>\n",
              "      <td>NaN</td>\n",
              "      <td>NaN</td>\n",
              "      <td>NaN</td>\n",
              "    </tr>\n",
              "    <tr>\n",
              "      <th>1365870</th>\n",
              "      <td>111509713</td>\n",
              "      <td>Kresge Research Guides: Kresge Library Databas...</td>\n",
              "      <td>[{'first': 'Sally', 'middle': [], 'last': 'Zip...</td>\n",
              "      <td>None</td>\n",
              "      <td>2014.0</td>\n",
              "      <td>None</td>\n",
              "      <td>None</td>\n",
              "      <td>None</td>\n",
              "      <td>NaN</td>\n",
              "      <td>None</td>\n",
              "      <td>...</td>\n",
              "      <td>[]</td>\n",
              "      <td>False</td>\n",
              "      <td>False</td>\n",
              "      <td>False</td>\n",
              "      <td>https://api.semanticscholar.org/CorpusID:11150...</td>\n",
              "      <td>NaN</td>\n",
              "      <td>NaN</td>\n",
              "      <td>NaN</td>\n",
              "      <td>NaN</td>\n",
              "      <td>NaN</td>\n",
              "    </tr>\n",
              "    <tr>\n",
              "      <th>1365871</th>\n",
              "      <td>111509849</td>\n",
              "      <td>Road Log From Grand Junction to Resource Enter...</td>\n",
              "      <td>[{'first': 'R.', 'middle': ['G.'], 'last': 'Yo...</td>\n",
              "      <td>None</td>\n",
              "      <td>1984.0</td>\n",
              "      <td>None</td>\n",
              "      <td>None</td>\n",
              "      <td>None</td>\n",
              "      <td>NaN</td>\n",
              "      <td>None</td>\n",
              "      <td>...</td>\n",
              "      <td>[]</td>\n",
              "      <td>False</td>\n",
              "      <td>False</td>\n",
              "      <td>False</td>\n",
              "      <td>https://api.semanticscholar.org/CorpusID:11150...</td>\n",
              "      <td>NaN</td>\n",
              "      <td>NaN</td>\n",
              "      <td>NaN</td>\n",
              "      <td>NaN</td>\n",
              "      <td>NaN</td>\n",
              "    </tr>\n",
              "    <tr>\n",
              "      <th>1365872</th>\n",
              "      <td>111509966</td>\n",
              "      <td>LibGuides. Mobile Literacy Lab. Home.</td>\n",
              "      <td>[{'first': 'Neena', 'middle': [], 'last': 'Gro...</td>\n",
              "      <td>BCPS shares many online resources for the succ...</td>\n",
              "      <td>2014.0</td>\n",
              "      <td>None</td>\n",
              "      <td>None</td>\n",
              "      <td>None</td>\n",
              "      <td>NaN</td>\n",
              "      <td>None</td>\n",
              "      <td>...</td>\n",
              "      <td>[]</td>\n",
              "      <td>False</td>\n",
              "      <td>False</td>\n",
              "      <td>False</td>\n",
              "      <td>https://api.semanticscholar.org/CorpusID:11150...</td>\n",
              "      <td>NaN</td>\n",
              "      <td>NaN</td>\n",
              "      <td>NaN</td>\n",
              "      <td>NaN</td>\n",
              "      <td>NaN</td>\n",
              "    </tr>\n",
              "  </tbody>\n",
              "</table>\n",
              "<p>5873 rows × 25 columns</p>\n",
              "</div>\n",
              "      <button class=\"colab-df-convert\" onclick=\"convertToInteractive('df-08157aa0-e728-4a68-8f1a-734aac86da1c')\"\n",
              "              title=\"Convert this dataframe to an interactive table.\"\n",
              "              style=\"display:none;\">\n",
              "        \n",
              "  <svg xmlns=\"http://www.w3.org/2000/svg\" height=\"24px\"viewBox=\"0 0 24 24\"\n",
              "       width=\"24px\">\n",
              "    <path d=\"M0 0h24v24H0V0z\" fill=\"none\"/>\n",
              "    <path d=\"M18.56 5.44l.94 2.06.94-2.06 2.06-.94-2.06-.94-.94-2.06-.94 2.06-2.06.94zm-11 1L8.5 8.5l.94-2.06 2.06-.94-2.06-.94L8.5 2.5l-.94 2.06-2.06.94zm10 10l.94 2.06.94-2.06 2.06-.94-2.06-.94-.94-2.06-.94 2.06-2.06.94z\"/><path d=\"M17.41 7.96l-1.37-1.37c-.4-.4-.92-.59-1.43-.59-.52 0-1.04.2-1.43.59L10.3 9.45l-7.72 7.72c-.78.78-.78 2.05 0 2.83L4 21.41c.39.39.9.59 1.41.59.51 0 1.02-.2 1.41-.59l7.78-7.78 2.81-2.81c.8-.78.8-2.07 0-2.86zM5.41 20L4 18.59l7.72-7.72 1.47 1.35L5.41 20z\"/>\n",
              "  </svg>\n",
              "      </button>\n",
              "      \n",
              "  <style>\n",
              "    .colab-df-container {\n",
              "      display:flex;\n",
              "      flex-wrap:wrap;\n",
              "      gap: 12px;\n",
              "    }\n",
              "\n",
              "    .colab-df-convert {\n",
              "      background-color: #E8F0FE;\n",
              "      border: none;\n",
              "      border-radius: 50%;\n",
              "      cursor: pointer;\n",
              "      display: none;\n",
              "      fill: #1967D2;\n",
              "      height: 32px;\n",
              "      padding: 0 0 0 0;\n",
              "      width: 32px;\n",
              "    }\n",
              "\n",
              "    .colab-df-convert:hover {\n",
              "      background-color: #E2EBFA;\n",
              "      box-shadow: 0px 1px 2px rgba(60, 64, 67, 0.3), 0px 1px 3px 1px rgba(60, 64, 67, 0.15);\n",
              "      fill: #174EA6;\n",
              "    }\n",
              "\n",
              "    [theme=dark] .colab-df-convert {\n",
              "      background-color: #3B4455;\n",
              "      fill: #D2E3FC;\n",
              "    }\n",
              "\n",
              "    [theme=dark] .colab-df-convert:hover {\n",
              "      background-color: #434B5C;\n",
              "      box-shadow: 0px 1px 3px 1px rgba(0, 0, 0, 0.15);\n",
              "      filter: drop-shadow(0px 1px 2px rgba(0, 0, 0, 0.3));\n",
              "      fill: #FFFFFF;\n",
              "    }\n",
              "  </style>\n",
              "\n",
              "      <script>\n",
              "        const buttonEl =\n",
              "          document.querySelector('#df-08157aa0-e728-4a68-8f1a-734aac86da1c button.colab-df-convert');\n",
              "        buttonEl.style.display =\n",
              "          google.colab.kernel.accessAllowed ? 'block' : 'none';\n",
              "\n",
              "        async function convertToInteractive(key) {\n",
              "          const element = document.querySelector('#df-08157aa0-e728-4a68-8f1a-734aac86da1c');\n",
              "          const dataTable =\n",
              "            await google.colab.kernel.invokeFunction('convertToInteractive',\n",
              "                                                     [key], {});\n",
              "          if (!dataTable) return;\n",
              "\n",
              "          const docLinkHtml = 'Like what you see? Visit the ' +\n",
              "            '<a target=\"_blank\" href=https://colab.research.google.com/notebooks/data_table.ipynb>data table notebook</a>'\n",
              "            + ' to learn more about interactive tables.';\n",
              "          element.innerHTML = '';\n",
              "          dataTable['output_type'] = 'display_data';\n",
              "          await google.colab.output.renderOutput(dataTable, element);\n",
              "          const docLink = document.createElement('div');\n",
              "          docLink.innerHTML = docLinkHtml;\n",
              "          element.appendChild(docLink);\n",
              "        }\n",
              "      </script>\n",
              "    </div>\n",
              "  </div>\n",
              "  "
            ]
          },
          "metadata": {},
          "execution_count": 29
        }
      ]
    },
    {
      "cell_type": "code",
      "source": [
        "len(list(df[1][\"paper_id\"]))"
      ],
      "metadata": {
        "colab": {
          "base_uri": "https://localhost:8080/"
        },
        "id": "XieI0q5HatJR",
        "outputId": "599b2b15-27c4-4cd0-cddc-499bc1f38c7b"
      },
      "execution_count": 27,
      "outputs": [
        {
          "output_type": "execute_result",
          "data": {
            "text/plain": [
              "10000"
            ]
          },
          "metadata": {},
          "execution_count": 27
        }
      ]
    },
    {
      "cell_type": "code",
      "source": [
        "print(list(df[3][\"paper_id\"])[0])"
      ],
      "metadata": {
        "colab": {
          "base_uri": "https://localhost:8080/"
        },
        "id": "CQeIvh7jWl9q",
        "outputId": "6f1a644c-8ea7-4213-e8c5-ca2301c12b00"
      },
      "execution_count": 20,
      "outputs": [
        {
          "output_type": "stream",
          "name": "stdout",
          "text": [
            "213273850\n"
          ]
        }
      ]
    },
    {
      "cell_type": "code",
      "source": [
        "def gen():\n",
        "  "
      ],
      "metadata": {
        "id": "wzDMQXwoZLD6"
      },
      "execution_count": null,
      "outputs": []
    },
    {
      "cell_type": "code",
      "source": [
        "def aclMag(list1, list2):\n",
        "  \n",
        "\n"
      ],
      "metadata": {
        "colab": {
          "base_uri": "https://localhost:8080/",
          "height": 135
        },
        "id": "a6UFDSrrcqqX",
        "outputId": "4b22999a-e002-4763-fc32-0d40e6468bd7"
      },
      "execution_count": 35,
      "outputs": [
        {
          "output_type": "error",
          "ename": "SyntaxError",
          "evalue": "ignored",
          "traceback": [
            "\u001b[0;36m  File \u001b[0;32m\"<ipython-input-35-cd419ec9fed7>\"\u001b[0;36m, line \u001b[0;32m1\u001b[0m\n\u001b[0;31m    def acl(list1, list2):\u001b[0m\n\u001b[0m                          ^\u001b[0m\n\u001b[0;31mSyntaxError\u001b[0m\u001b[0;31m:\u001b[0m unexpected EOF while parsing\n"
          ]
        }
      ]
    },
    {
      "cell_type": "code",
      "source": [
        "from tqdm import tqdm\n",
        "import json\n",
        "final_dataset=[]\n",
        "df = pd.read_json(\"/content/drive/MyDrive/metadata_72.jsonl\", lines=True,chunksize=10000)\n",
        "for i in tqdm(range(137)):\n",
        "  final_dataset.append(aclBasedSearch(pad,list(df[i][\"acl_id\"])))\n"
      ],
      "metadata": {
        "id": "Gke1V7dgX5Zk"
      },
      "execution_count": null,
      "outputs": []
    },
    {
      "cell_type": "code",
      "source": [
        "from tqdm import tqdm\n",
        "import json\n",
        "act_data =[]\n",
        "with open(\"/content/drive/MyDrive/metadata_72.jsonl\", 'r') as json_file:\n",
        "    json_list = list(json_file)\n",
        "final_dataset=[]\n",
        "for json_str in json_list:\n",
        "  for i in range(10000):\n",
        "    act = json.loads(json_str)\n",
        "    act_data.append(act)\n",
        "    final_dataset.append(superSearchFunc(pad,act_data))"
      ],
      "metadata": {
        "id": "QPxo7hNUPzfe"
      },
      "execution_count": null,
      "outputs": []
    },
    {
      "cell_type": "code",
      "source": [
        "len(final_dataset)\n",
        "print(final_dataset)"
      ],
      "metadata": {
        "colab": {
          "base_uri": "https://localhost:8080/"
        },
        "id": "q3FWCPXGRq9x",
        "outputId": "7465e981-3aba-424e-8d54-37e0c9aa9c8f"
      },
      "execution_count": 18,
      "outputs": [
        {
          "output_type": "stream",
          "name": "stdout",
          "text": [
            "[[[], []], [[], []], [[], []], [[], []], [[], []], [[], []], [[], []], [[], []], [[], []], [[], []], [[], []], [[], []], [[], []], [[], []], [[], []], [[], []], [[], []], [[], []], [[], []], [[], []], [[], []], [[], []], [[], []], [[], []], [[], []], [[], []], [[], []], [[], []], [[], []], [[], []], [[], []], [[], []], [[], []], [[], []]]\n"
          ]
        }
      ]
    },
    {
      "cell_type": "code",
      "execution_count": null,
      "metadata": {
        "colab": {
          "base_uri": "https://localhost:8080/",
          "height": 183
        },
        "id": "3CwENomlgeXZ",
        "outputId": "02c85c7e-bb89-43b1-ce85-a84c5dd29922"
      },
      "outputs": [
        {
          "output_type": "error",
          "ename": "NameError",
          "evalue": "ignored",
          "traceback": [
            "\u001b[0;31m---------------------------------------------------------------------------\u001b[0m",
            "\u001b[0;31mNameError\u001b[0m                                 Traceback (most recent call last)",
            "\u001b[0;32m<ipython-input-15-e1eebe8aeb4d>\u001b[0m in \u001b[0;36m<module>\u001b[0;34m\u001b[0m\n\u001b[1;32m      1\u001b[0m \u001b[0mtff\u001b[0m\u001b[0;34m=\u001b[0m\u001b[0;34m[\u001b[0m\u001b[0;34m]\u001b[0m\u001b[0;34m\u001b[0m\u001b[0;34m\u001b[0m\u001b[0m\n\u001b[0;32m----> 2\u001b[0;31m \u001b[0mtff\u001b[0m \u001b[0;34m=\u001b[0m \u001b[0mtitleBasedSearch\u001b[0m\u001b[0;34m(\u001b[0m\u001b[0mpad\u001b[0m\u001b[0;34m,\u001b[0m\u001b[0msdd\u001b[0m\u001b[0;34m)\u001b[0m\u001b[0;34m\u001b[0m\u001b[0;34m\u001b[0m\u001b[0m\n\u001b[0m",
            "\u001b[0;31mNameError\u001b[0m: name 'sdd' is not defined"
          ]
        }
      ],
      "source": [
        "tff=[]\n",
        "tff = titleBasedSearch(pad,sdd)"
      ]
    },
    {
      "cell_type": "code",
      "execution_count": null,
      "metadata": {
        "colab": {
          "base_uri": "https://localhost:8080/"
        },
        "id": "hWTo1zXCbUtB",
        "outputId": "35c879ff-f377-4b43-c8e4-b7b3b87bfce5"
      },
      "outputs": [
        {
          "data": {
            "text/plain": [
              "0"
            ]
          },
          "execution_count": 47,
          "metadata": {},
          "output_type": "execute_result"
        }
      ],
      "source": [
        "len(tff)"
      ]
    },
    {
      "cell_type": "code",
      "execution_count": null,
      "metadata": {
        "colab": {
          "base_uri": "https://localhost:8080/"
        },
        "id": "ju736ZctgzuG",
        "outputId": "240f6163-3b66-4e96-ba4d-fddd7c36805c"
      },
      "outputs": [
        {
          "name": "stdout",
          "output_type": "stream",
          "text": [
            "[]\n"
          ]
        }
      ],
      "source": [
        "print(tff)"
      ]
    },
    {
      "cell_type": "code",
      "execution_count": null,
      "metadata": {
        "colab": {
          "base_uri": "https://localhost:8080/"
        },
        "id": "UNspax3GhJ7J",
        "outputId": "cff82661-197d-4a20-929d-e0d351300a67"
      },
      "outputs": [
        {
          "data": {
            "text/plain": [
              "1000"
            ]
          },
          "execution_count": 49,
          "metadata": {},
          "output_type": "execute_result"
        }
      ],
      "source": [
        "len(sdd)"
      ]
    },
    {
      "cell_type": "code",
      "execution_count": null,
      "metadata": {
        "colab": {
          "base_uri": "https://localhost:8080/"
        },
        "id": "2uGNGDy14GJ8",
        "outputId": "48f4ca9e-ad02-4021-b691-6b48b1736833"
      },
      "outputs": [
        {
          "data": {
            "text/plain": [
              "291503"
            ]
          },
          "execution_count": 50,
          "metadata": {},
          "output_type": "execute_result"
        }
      ],
      "source": [
        "len(pad)"
      ]
    },
    {
      "cell_type": "code",
      "execution_count": null,
      "metadata": {
        "id": "U_kuAP1UbNg0"
      },
      "outputs": [],
      "source": [
        "tf2=[]\n",
        "tf2 = arxivbasedSearch(pad,sdd)"
      ]
    },
    {
      "cell_type": "code",
      "execution_count": null,
      "metadata": {
        "id": "zdzmWU4s4bxY"
      },
      "outputs": [],
      "source": [
        "len(tf2)"
      ]
    },
    {
      "cell_type": "code",
      "execution_count": null,
      "metadata": {
        "id": "Ljx8VFTmFo_X"
      },
      "outputs": [],
      "source": []
    },
    {
      "cell_type": "code",
      "execution_count": null,
      "metadata": {
        "colab": {
          "base_uri": "https://localhost:8080/",
          "height": 328
        },
        "id": "TysMgODOGV40",
        "outputId": "024a1914-4103-4c73-9606-ef4459040ba0"
      },
      "outputs": [
        {
          "output_type": "error",
          "ename": "KeyboardInterrupt",
          "evalue": "ignored",
          "traceback": [
            "\u001b[0;31m---------------------------------------------------------------------------\u001b[0m",
            "\u001b[0;31mKeyboardInterrupt\u001b[0m                         Traceback (most recent call last)",
            "\u001b[0;32m<ipython-input-20-9e94e9fb2e0c>\u001b[0m in \u001b[0;36m<module>\u001b[0;34m\u001b[0m\n\u001b[1;32m      1\u001b[0m \u001b[0mfinal_dataset\u001b[0m\u001b[0;34m=\u001b[0m\u001b[0;34m[\u001b[0m\u001b[0;34m]\u001b[0m\u001b[0;34m\u001b[0m\u001b[0;34m\u001b[0m\u001b[0m\n\u001b[0;32m----> 2\u001b[0;31m \u001b[0mfinal_dataset\u001b[0m \u001b[0;34m=\u001b[0m \u001b[0msuperSearchFunc\u001b[0m\u001b[0;34m(\u001b[0m\u001b[0mpad\u001b[0m\u001b[0;34m,\u001b[0m\u001b[0mact_data\u001b[0m\u001b[0;34m)\u001b[0m\u001b[0;34m\u001b[0m\u001b[0;34m\u001b[0m\u001b[0m\n\u001b[0m",
            "\u001b[0;32m<ipython-input-19-d9f3b2549a6b>\u001b[0m in \u001b[0;36msuperSearchFunc\u001b[0;34m(list1, list2)\u001b[0m\n\u001b[1;32m      1\u001b[0m \u001b[0;32mdef\u001b[0m \u001b[0msuperSearchFunc\u001b[0m\u001b[0;34m(\u001b[0m\u001b[0mlist1\u001b[0m\u001b[0;34m,\u001b[0m\u001b[0mlist2\u001b[0m\u001b[0;34m)\u001b[0m\u001b[0;34m:\u001b[0m\u001b[0;34m\u001b[0m\u001b[0;34m\u001b[0m\u001b[0m\n\u001b[1;32m      2\u001b[0m   \u001b[0mfinal_set\u001b[0m\u001b[0;34m=\u001b[0m\u001b[0;34m[\u001b[0m\u001b[0;34m]\u001b[0m\u001b[0;34m\u001b[0m\u001b[0;34m\u001b[0m\u001b[0m\n\u001b[0;32m----> 3\u001b[0;31m   \u001b[0mfinal_set\u001b[0m\u001b[0;34m.\u001b[0m\u001b[0mappend\u001b[0m\u001b[0;34m(\u001b[0m\u001b[0mtitleBasedSearch\u001b[0m\u001b[0;34m(\u001b[0m\u001b[0mpad\u001b[0m\u001b[0;34m,\u001b[0m\u001b[0mact_data\u001b[0m\u001b[0;34m)\u001b[0m\u001b[0;34m)\u001b[0m\u001b[0;34m\u001b[0m\u001b[0;34m\u001b[0m\u001b[0m\n\u001b[0m\u001b[1;32m      4\u001b[0m   \u001b[0mfinal_set\u001b[0m\u001b[0;34m.\u001b[0m\u001b[0mappend\u001b[0m\u001b[0;34m(\u001b[0m\u001b[0marxivbasedSearch\u001b[0m\u001b[0;34m(\u001b[0m\u001b[0mpad\u001b[0m\u001b[0;34m,\u001b[0m\u001b[0mact_data\u001b[0m\u001b[0;34m)\u001b[0m\u001b[0;34m)\u001b[0m\u001b[0;34m\u001b[0m\u001b[0;34m\u001b[0m\u001b[0m\n\u001b[1;32m      5\u001b[0m   \u001b[0mfinal_set\u001b[0m\u001b[0;34m.\u001b[0m\u001b[0mappend\u001b[0m\u001b[0;34m(\u001b[0m\u001b[0mpubmedBasedSearch\u001b[0m\u001b[0;34m(\u001b[0m\u001b[0mpad\u001b[0m\u001b[0;34m,\u001b[0m\u001b[0mact_data\u001b[0m\u001b[0;34m)\u001b[0m\u001b[0;34m)\u001b[0m\u001b[0;34m\u001b[0m\u001b[0;34m\u001b[0m\u001b[0m\n",
            "\u001b[0;32m<ipython-input-10-8605ae552fe0>\u001b[0m in \u001b[0;36mtitleBasedSearch\u001b[0;34m(list1, list2)\u001b[0m\n\u001b[1;32m      4\u001b[0m     \u001b[0;32mfor\u001b[0m \u001b[0mj\u001b[0m \u001b[0;32min\u001b[0m \u001b[0mrange\u001b[0m\u001b[0;34m(\u001b[0m\u001b[0mlen\u001b[0m\u001b[0;34m(\u001b[0m\u001b[0mlist2\u001b[0m\u001b[0;34m)\u001b[0m\u001b[0;34m)\u001b[0m\u001b[0;34m:\u001b[0m\u001b[0;34m\u001b[0m\u001b[0;34m\u001b[0m\u001b[0m\n\u001b[1;32m      5\u001b[0m       \u001b[0;32mtry\u001b[0m\u001b[0;34m:\u001b[0m\u001b[0;34m\u001b[0m\u001b[0;34m\u001b[0m\u001b[0m\n\u001b[0;32m----> 6\u001b[0;31m         \u001b[0;32mif\u001b[0m\u001b[0;34m(\u001b[0m\u001b[0mlist1\u001b[0m\u001b[0;34m[\u001b[0m\u001b[0mi\u001b[0m\u001b[0;34m]\u001b[0m\u001b[0;34m[\u001b[0m\u001b[0;34m\"title\"\u001b[0m\u001b[0;34m]\u001b[0m\u001b[0;34m==\u001b[0m\u001b[0mlist2\u001b[0m\u001b[0;34m[\u001b[0m\u001b[0mj\u001b[0m\u001b[0;34m]\u001b[0m\u001b[0;34m[\u001b[0m\u001b[0;34m\"title\"\u001b[0m\u001b[0;34m]\u001b[0m\u001b[0;34m)\u001b[0m\u001b[0;34m:\u001b[0m\u001b[0;34m\u001b[0m\u001b[0;34m\u001b[0m\u001b[0m\n\u001b[0m\u001b[1;32m      7\u001b[0m           \u001b[0mfinal\u001b[0m\u001b[0;34m.\u001b[0m\u001b[0mappend\u001b[0m\u001b[0;34m(\u001b[0m\u001b[0mlist2\u001b[0m\u001b[0;34m[\u001b[0m\u001b[0mj\u001b[0m\u001b[0;34m]\u001b[0m\u001b[0;34m)\u001b[0m\u001b[0;34m\u001b[0m\u001b[0;34m\u001b[0m\u001b[0m\n\u001b[1;32m      8\u001b[0m       \u001b[0;32mexcept\u001b[0m \u001b[0mKeyError\u001b[0m\u001b[0;34m:\u001b[0m\u001b[0;34m\u001b[0m\u001b[0;34m\u001b[0m\u001b[0m\n",
            "\u001b[0;31mKeyboardInterrupt\u001b[0m: "
          ]
        }
      ],
      "source": []
    },
    {
      "cell_type": "code",
      "execution_count": null,
      "metadata": {
        "id": "o3K3I1I79Rjk"
      },
      "outputs": [],
      "source": [
        "import os\n",
        "import json\n",
        "\n",
        "metadata_list =[]\n",
        "METADATA_DIR = \"/content/drive/MyDrive/s2orc_datasets/\"\n",
        "for metadata_file in os.listdir(METADATA_DIR):\n",
        "  with open(os.path.join(METADATA_DIR,metadata_file)) as f_meta:\n",
        "    for line in f_meta:\n",
        "      metadata_dict = json.loads(line)\n",
        "      metadata_list.append(metadata_dict)\n"
      ]
    },
    {
      "cell_type": "code",
      "execution_count": null,
      "metadata": {
        "id": "2faNb1MTLAy-"
      },
      "outputs": [],
      "source": []
    }
  ],
  "metadata": {
    "colab": {
      "provenance": [],
      "include_colab_link": true
    },
    "gpuClass": "standard",
    "kernelspec": {
      "display_name": "Python 3",
      "name": "python3"
    },
    "language_info": {
      "name": "python"
    }
  },
  "nbformat": 4,
  "nbformat_minor": 0
}