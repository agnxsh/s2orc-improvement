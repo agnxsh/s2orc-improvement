{
  "cells": [
    {
      "cell_type": "markdown",
      "metadata": {
        "id": "view-in-github",
        "colab_type": "text"
      },
      "source": [
        "<a href=\"https://colab.research.google.com/github/agnxsh/s2orc-improvement/blob/main/s2orc.ipynb\" target=\"_parent\"><img src=\"https://colab.research.google.com/assets/colab-badge.svg\" alt=\"Open In Colab\"/></a>"
      ]
    },
    {
      "cell_type": "code",
      "execution_count": null,
      "metadata": {
        "colab": {
          "base_uri": "https://localhost:8080/"
        },
        "id": "_XRyz8vfEXla",
        "outputId": "435e9953-7e09-47c0-b0e3-bdbff2fa8564"
      },
      "outputs": [
        {
          "output_type": "stream",
          "name": "stdout",
          "text": [
            "Drive already mounted at /content/drive; to attempt to forcibly remount, call drive.mount(\"/content/drive\", force_remount=True).\n"
          ]
        }
      ],
      "source": [
        "import json\n",
        "from google.colab import drive\n",
        "drive.mount(\"/content/drive\")"
      ]
    },
    {
      "cell_type": "code",
      "execution_count": null,
      "metadata": {
        "id": "zPs_SeehJMQa"
      },
      "outputs": [],
      "source": [
        "# import pandas as pd\n",
        "# papers_abstracts_data = pd.read_json(path_or_buf=\"/content/drive/MyDrive/papers-with-abstracts.json\", lines=False)"
      ]
    },
    {
      "cell_type": "code",
      "execution_count": null,
      "metadata": {
        "id": "_4CqgL11w8ZT"
      },
      "outputs": [],
      "source": [
        "import json\n",
        "f =open(\"/content/drive/MyDrive/papers-with-abstracts.json\")\n",
        "pad = json.load(f)\n",
        "f.close()"
      ]
    },
    {
      "cell_type": "code",
      "execution_count": null,
      "metadata": {
        "colab": {
          "base_uri": "https://localhost:8080/"
        },
        "id": "RELyKDNSx7eL",
        "outputId": "3f69ab83-c536-403f-af27-1fc88049b709"
      },
      "outputs": [
        {
          "name": "stdout",
          "output_type": "stream",
          "text": [
            "Looking in indexes: https://pypi.org/simple, https://us-python.pkg.dev/colab-wheels/public/simple/\n",
            "Requirement already satisfied: jsonlines in /usr/local/lib/python3.7/dist-packages (3.1.0)\n",
            "Requirement already satisfied: attrs>=19.2.0 in /usr/local/lib/python3.7/dist-packages (from jsonlines) (22.1.0)\n",
            "Requirement already satisfied: typing-extensions in /usr/local/lib/python3.7/dist-packages (from jsonlines) (4.1.1)\n"
          ]
        }
      ],
      "source": [
        "%pip install jsonlines"
      ]
    },
    {
      "cell_type": "code",
      "execution_count": null,
      "metadata": {
        "id": "Ov4ejbwGyOEJ"
      },
      "outputs": [],
      "source": [
        "import json\n",
        "with open(\"/content/drive/MyDrive/sample.jsonl\") as f:\n",
        "  sd = list(f)"
      ]
    },
    {
      "cell_type": "code",
      "execution_count": null,
      "metadata": {
        "id": "eLMIFOkvXjAl"
      },
      "outputs": [],
      "source": [
        "import json\n",
        "sdd =[]\n",
        "with open('/content/drive/MyDrive/sample.jsonl', 'r') as json_file:\n",
        "    json_list = list(json_file)\n",
        "\n",
        "for json_str in json_list:\n",
        "    sd = json.loads(json_str)\n",
        "    sdd.append(sd)\n"
      ]
    },
    {
      "cell_type": "code",
      "execution_count": null,
      "metadata": {
        "id": "Hpy5hLpB0J5g",
        "colab": {
          "base_uri": "https://localhost:8080/"
        },
        "outputId": "faaf2e64-1ce4-4293-b1b0-d845f8337db5"
      },
      "outputs": [
        {
          "output_type": "execute_result",
          "data": {
            "text/plain": [
              "{'paper_id': '77490025',\n",
              " 'title': 'State of external ocular muscles in strabismus of different duration',\n",
              " 'authors': [{'first': \"Pen'kov\", 'middle': [], 'last': 'Ma', 'suffix': ''},\n",
              "  {'first': 'Konstantinovskaia', 'middle': [], 'last': 'Ke', 'suffix': ''},\n",
              "  {'first': 'Zhukova', 'middle': [], 'last': 'Sv', 'suffix': ''}],\n",
              " 'abstract': None,\n",
              " 'year': 1975,\n",
              " 'arxiv_id': None,\n",
              " 'acl_id': None,\n",
              " 'pmc_id': None,\n",
              " 'pubmed_id': None,\n",
              " 'doi': None,\n",
              " 'venue': None,\n",
              " 'journal': 'Oftalmologicheskiĭ zhurnal',\n",
              " 'mag_id': '2426173123',\n",
              " 'mag_field_of_study': ['Medicine'],\n",
              " 'outbound_citations': [],\n",
              " 'inbound_citations': [],\n",
              " 'has_outbound_citations': False,\n",
              " 'has_inbound_citations': False,\n",
              " 'has_pdf_parse': False,\n",
              " 's2_url': 'https://api.semanticscholar.org/CorpusID:77490025'}"
            ]
          },
          "metadata": {},
          "execution_count": 5
        }
      ],
      "source": [
        "sdd[0]"
      ]
    },
    {
      "cell_type": "code",
      "execution_count": null,
      "metadata": {
        "colab": {
          "base_uri": "https://localhost:8080/"
        },
        "id": "FJSUXx99zO9R",
        "outputId": "8379da34-0b33-44d9-9dac-8d1b0f4a2f15"
      },
      "outputs": [
        {
          "output_type": "execute_result",
          "data": {
            "text/plain": [
              "list"
            ]
          },
          "metadata": {},
          "execution_count": 31
        }
      ],
      "source": [
        "type(sdd)"
      ]
    },
    {
      "cell_type": "code",
      "execution_count": null,
      "metadata": {
        "id": "R0HJxM-F0Dab"
      },
      "outputs": [],
      "source": [
        "sdd[0]['arxiv_id']"
      ]
    },
    {
      "cell_type": "code",
      "execution_count": null,
      "metadata": {
        "id": "MYocROcMznuj"
      },
      "outputs": [],
      "source": [
        "sdd[0][\"arxiv_id\"]"
      ]
    },
    {
      "cell_type": "code",
      "execution_count": null,
      "metadata": {
        "colab": {
          "base_uri": "https://localhost:8080/"
        },
        "id": "mAic6TzhxRvG",
        "outputId": "ac07b24e-6793-410f-8cc9-ff4af2f025be"
      },
      "outputs": [
        {
          "output_type": "execute_result",
          "data": {
            "text/plain": [
              "list"
            ]
          },
          "metadata": {},
          "execution_count": 39
        }
      ],
      "source": [
        "type(pad)"
      ]
    },
    {
      "cell_type": "code",
      "execution_count": null,
      "metadata": {
        "colab": {
          "base_uri": "https://localhost:8080/",
          "height": 39
        },
        "id": "ImzK5_eYxmZq",
        "outputId": "810430f0-61bb-4499-dfaf-88763d3ad11a"
      },
      "outputs": [
        {
          "output_type": "execute_result",
          "data": {
            "text/plain": [
              "'Dynamic Network Model from Partial Observations'"
            ],
            "application/vnd.google.colaboratory.intrinsic+json": {
              "type": "string"
            }
          },
          "metadata": {},
          "execution_count": 40
        }
      ],
      "source": [
        "pad[0][\"title\"]"
      ]
    },
    {
      "cell_type": "code",
      "execution_count": null,
      "metadata": {
        "colab": {
          "base_uri": "https://localhost:8080/"
        },
        "id": "_KEu2ZIkxVy-",
        "outputId": "ab7d5acd-c015-41e1-8874-02cab5e9812d"
      },
      "outputs": [
        {
          "output_type": "execute_result",
          "data": {
            "text/plain": [
              "[{'paper_url': 'https://paperswithcode.com/paper/dynamic-network-model-from-partial',\n",
              "  'arxiv_id': '1805.10616',\n",
              "  'title': 'Dynamic Network Model from Partial Observations',\n",
              "  'abstract': 'Can evolving networks be inferred and modeled without directly observing\\ntheir nodes and edges? In many applications, the edges of a dynamic network\\nmight not be observed, but one can observe the dynamics of stochastic cascading\\nprocesses (e.g., information diffusion, virus propagation) occurring over the\\nunobserved network. While there have been efforts to infer networks based on\\nsuch data, providing a generative probabilistic model that is able to identify\\nthe underlying time-varying network remains an open question. Here we consider\\nthe problem of inferring generative dynamic network models based on network\\ncascade diffusion data. We propose a novel framework for providing a\\nnon-parametric dynamic network model--based on a mixture of coupled\\nhierarchical Dirichlet processes-- based on data capturing cascade node\\ninfection times. Our approach allows us to infer the evolving community\\nstructure in networks and to obtain an explicit predictive distribution over\\nthe edges of the underlying network--including those that were not involved in\\ntransmission of any cascade, or are likely to appear in the future. We show the\\neffectiveness of our approach using extensive experiments on synthetic as well\\nas real-world networks.',\n",
              "  'url_abs': 'http://arxiv.org/abs/1805.10616v4',\n",
              "  'url_pdf': 'http://arxiv.org/pdf/1805.10616v4.pdf',\n",
              "  'proceeding': 'NeurIPS 2018 12',\n",
              "  'authors': ['Elahe Ghalebi',\n",
              "   'Baharan Mirzasoleiman',\n",
              "   'Radu Grosu',\n",
              "   'Jure Leskovec'],\n",
              "  'tasks': [],\n",
              "  'date': '2018-05-27',\n",
              "  'methods': []}]"
            ]
          },
          "metadata": {},
          "execution_count": 41
        }
      ],
      "source": [
        "pad[:1]"
      ]
    },
    {
      "cell_type": "code",
      "execution_count": null,
      "metadata": {
        "id": "9u16UTQON4gB"
      },
      "outputs": [],
      "source": [
        "import pandas as pd\n",
        "sample_storc_data = pd.read_json(path_or_buf=\"/content/drive/MyDrive/sample.jsonl\", lines=True)"
      ]
    },
    {
      "cell_type": "code",
      "execution_count": null,
      "metadata": {
        "id": "S83i6IIAvi_o",
        "colab": {
          "base_uri": "https://localhost:8080/",
          "height": 187
        },
        "outputId": "86164eec-af9e-481c-e126-96165a0ed275"
      },
      "outputs": [
        {
          "output_type": "error",
          "ename": "NameError",
          "evalue": "ignored",
          "traceback": [
            "\u001b[0;31m---------------------------------------------------------------------------\u001b[0m",
            "\u001b[0;31mNameError\u001b[0m                                 Traceback (most recent call last)",
            "\u001b[0;32m<ipython-input-45-a01c686af35f>\u001b[0m in \u001b[0;36m<module>\u001b[0;34m\u001b[0m\n\u001b[0;32m----> 1\u001b[0;31m \u001b[0mpapers_abstracts_data\u001b[0m \u001b[0;34m=\u001b[0m \u001b[0mlist\u001b[0m\u001b[0;34m(\u001b[0m\u001b[0mpapers_abstracts_data\u001b[0m\u001b[0;34m)\u001b[0m\u001b[0;34m\u001b[0m\u001b[0;34m\u001b[0m\u001b[0m\n\u001b[0m\u001b[1;32m      2\u001b[0m \u001b[0msample_storc_data\u001b[0m \u001b[0;34m=\u001b[0m \u001b[0mlist\u001b[0m\u001b[0;34m(\u001b[0m\u001b[0msample_storc_data\u001b[0m\u001b[0;34m)\u001b[0m\u001b[0;34m\u001b[0m\u001b[0;34m\u001b[0m\u001b[0m\n",
            "\u001b[0;31mNameError\u001b[0m: name 'papers_abstracts_data' is not defined"
          ]
        }
      ],
      "source": [
        "papers_abstracts_data = list(papers_abstracts_data)\n",
        "sample_storc_data = list(sample_storc_data)"
      ]
    },
    {
      "cell_type": "code",
      "execution_count": null,
      "metadata": {
        "colab": {
          "base_uri": "https://localhost:8080/",
          "height": 187
        },
        "id": "QvT8zAhbOOgi",
        "outputId": "4b312932-a1f7-4a27-b237-b1d74c0dce7d"
      },
      "outputs": [
        {
          "output_type": "error",
          "ename": "NameError",
          "evalue": "ignored",
          "traceback": [
            "\u001b[0;31m---------------------------------------------------------------------------\u001b[0m",
            "\u001b[0;31mNameError\u001b[0m                                 Traceback (most recent call last)",
            "\u001b[0;32m<ipython-input-42-077c12893daf>\u001b[0m in \u001b[0;36m<module>\u001b[0;34m\u001b[0m\n\u001b[0;32m----> 1\u001b[0;31m \u001b[0mtype\u001b[0m\u001b[0;34m(\u001b[0m\u001b[0msample_storc_data\u001b[0m\u001b[0;34m)\u001b[0m\u001b[0;34m\u001b[0m\u001b[0;34m\u001b[0m\u001b[0m\n\u001b[0m\u001b[1;32m      2\u001b[0m \u001b[0mtype\u001b[0m\u001b[0;34m(\u001b[0m\u001b[0mpapers_abstracts_data\u001b[0m\u001b[0;34m)\u001b[0m\u001b[0;34m\u001b[0m\u001b[0;34m\u001b[0m\u001b[0m\n",
            "\u001b[0;31mNameError\u001b[0m: name 'sample_storc_data' is not defined"
          ]
        }
      ],
      "source": [
        "type(sample_storc_data)\n",
        "type(papers_abstracts_data)"
      ]
    },
    {
      "cell_type": "code",
      "execution_count": null,
      "metadata": {
        "colab": {
          "base_uri": "https://localhost:8080/",
          "height": 169
        },
        "id": "VfIhYAvzPA0M",
        "outputId": "56f319d2-df33-4fff-f81b-ed25f5b7e094"
      },
      "outputs": [
        {
          "output_type": "error",
          "ename": "NameError",
          "evalue": "ignored",
          "traceback": [
            "\u001b[0;31m---------------------------------------------------------------------------\u001b[0m",
            "\u001b[0;31mNameError\u001b[0m                                 Traceback (most recent call last)",
            "\u001b[0;32m<ipython-input-43-5ee1d26b1f64>\u001b[0m in \u001b[0;36m<module>\u001b[0;34m\u001b[0m\n\u001b[0;32m----> 1\u001b[0;31m \u001b[0mpapers_abstracts_data\u001b[0m\u001b[0;34m\u001b[0m\u001b[0;34m\u001b[0m\u001b[0m\n\u001b[0m",
            "\u001b[0;31mNameError\u001b[0m: name 'papers_abstracts_data' is not defined"
          ]
        }
      ],
      "source": [
        "papers_abstracts_data"
      ]
    },
    {
      "cell_type": "code",
      "execution_count": null,
      "metadata": {
        "colab": {
          "base_uri": "https://localhost:8080/",
          "height": 165
        },
        "id": "XIouuhWpu2mb",
        "outputId": "9208e000-55f1-44a5-8263-4bde2c85cdf6"
      },
      "outputs": [
        {
          "ename": "TypeError",
          "evalue": "ignored",
          "output_type": "error",
          "traceback": [
            "\u001b[0;31m---------------------------------------------------------------------------\u001b[0m",
            "\u001b[0;31mTypeError\u001b[0m                                 Traceback (most recent call last)",
            "\u001b[0;32m<ipython-input-22-651f1d5382a0>\u001b[0m in \u001b[0;36m<module>\u001b[0;34m\u001b[0m\n\u001b[0;32m----> 1\u001b[0;31m \u001b[0mtype\u001b[0m\u001b[0;34m(\u001b[0m\u001b[0msample_storc_data\u001b[0m\u001b[0;34m[\u001b[0m\u001b[0;34m'title'\u001b[0m\u001b[0;34m]\u001b[0m\u001b[0;34m)\u001b[0m\u001b[0;34m\u001b[0m\u001b[0;34m\u001b[0m\u001b[0m\n\u001b[0m",
            "\u001b[0;31mTypeError\u001b[0m: list indices must be integers or slices, not str"
          ]
        }
      ],
      "source": [
        "type(sample_storc_data['title'])"
      ]
    },
    {
      "cell_type": "code",
      "execution_count": null,
      "metadata": {
        "id": "fmtVRX3Gu8-n"
      },
      "outputs": [],
      "source": [
        "def titleBasedSearch(list1,list2):\n",
        "  final =[]\n",
        "  for i in range(len(list1)):\n",
        "    for j in range(len(list2)):\n",
        "      try:\n",
        "        if(list1[i][\"title\"]==list2[j][\"title\"]):\n",
        "          final.append(list2[j][\"title\"])\n",
        "      except KeyError:\n",
        "        continue\n",
        "  return final\n",
        "\n",
        "\n"
      ]
    },
    {
      "cell_type": "code",
      "source": [
        "tff=[]\n",
        "tff = titleBasedSearch(pad,sdd)"
      ],
      "metadata": {
        "id": "3CwENomlgeXZ"
      },
      "execution_count": null,
      "outputs": []
    },
    {
      "cell_type": "code",
      "source": [
        "print(tff)"
      ],
      "metadata": {
        "colab": {
          "base_uri": "https://localhost:8080/"
        },
        "id": "ju736ZctgzuG",
        "outputId": "c4c31d9f-fd6d-413e-8ba3-36cf5e2b46f6"
      },
      "execution_count": null,
      "outputs": [
        {
          "output_type": "stream",
          "name": "stdout",
          "text": [
            "[]\n"
          ]
        }
      ]
    },
    {
      "cell_type": "code",
      "source": [
        "len(sdd)"
      ],
      "metadata": {
        "id": "UNspax3GhJ7J",
        "colab": {
          "base_uri": "https://localhost:8080/"
        },
        "outputId": "403875d2-7d3e-4143-9b50-fc0f8de15557"
      },
      "execution_count": null,
      "outputs": [
        {
          "output_type": "execute_result",
          "data": {
            "text/plain": [
              "1000"
            ]
          },
          "metadata": {},
          "execution_count": 7
        }
      ]
    },
    {
      "cell_type": "code",
      "source": [
        "len(pad)"
      ],
      "metadata": {
        "colab": {
          "base_uri": "https://localhost:8080/"
        },
        "id": "2uGNGDy14GJ8",
        "outputId": "c615a66c-19cc-43ef-a138-60d364664eb7"
      },
      "execution_count": null,
      "outputs": [
        {
          "output_type": "execute_result",
          "data": {
            "text/plain": [
              "291503"
            ]
          },
          "metadata": {},
          "execution_count": 8
        }
      ]
    },
    {
      "cell_type": "code",
      "source": [],
      "metadata": {
        "id": "zdzmWU4s4bxY"
      },
      "execution_count": null,
      "outputs": []
    }
  ],
  "metadata": {
    "colab": {
      "provenance": [],
      "mount_file_id": "1bwE1mho4ay3zHgJ2jcaQ66hUeqnBmXSH",
      "authorship_tag": "ABX9TyNjvQN/w1J8+ic5twt8Xpiu",
      "include_colab_link": true
    },
    "kernelspec": {
      "display_name": "Python 3",
      "name": "python3"
    },
    "language_info": {
      "name": "python"
    }
  },
  "nbformat": 4,
  "nbformat_minor": 0
}